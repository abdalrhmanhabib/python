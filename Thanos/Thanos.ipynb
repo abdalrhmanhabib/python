{
 "cells": [
  {
   "cell_type": "markdown",
   "metadata": {},
   "source": [
    "### Import libraries\n"
   ]
  },
  {
   "cell_type": "code",
   "execution_count": 1,
   "metadata": {},
   "outputs": [],
   "source": [
    "import os\n",
    "import random\n",
    "import string"
   ]
  },
  {
   "cell_type": "markdown",
   "metadata": {},
   "source": [
    "##### to choose random files  and make random names for the files."
   ]
  },
  {
   "cell_type": "code",
   "execution_count": 3,
   "metadata": {},
   "outputs": [
    {
     "name": "stdout",
     "output_type": "stream",
     "text": [
      "axabu.png\n",
      "renamed: axabu.png\n",
      "bdleb.png\n",
      "renamed: bdleb.png\n",
      "bviqq.png\n",
      "renamed: bviqq.png\n",
      "bvmut.png\n",
      "renamed: bvmut.png\n",
      "ckwmr.png\n",
      "renamed: ckwmr.png\n",
      "deipf.png\n",
      "renamed: deipf.png\n",
      "deuvk.png\n",
      "renamed: deuvk.png\n",
      "doovn.png\n",
      "renamed: doovn.png\n",
      "eavxp.png\n",
      "renamed: eavxp.png\n",
      "entci.png\n",
      "renamed: entci.png\n",
      "eqtaw.png\n",
      "renamed: eqtaw.png\n",
      "fbrbk.png\n",
      "renamed: fbrbk.png\n",
      "fhvfc.png\n",
      "renamed: fhvfc.png\n",
      "fixak.png\n",
      "renamed: fixak.png\n",
      "fjasb.png\n",
      "renamed: fjasb.png\n",
      "frdsc.png\n",
      "renamed: frdsc.png\n",
      "ghumb.png\n",
      "renamed: ghumb.png\n",
      "hjjva.png\n",
      "renamed: hjjva.png\n",
      "iahyd.png\n",
      "renamed: iahyd.png\n",
      "igvkb.png\n",
      "renamed: igvkb.png\n",
      "jjwuc.png\n",
      "renamed: jjwuc.png\n",
      "jklpj.png\n",
      "renamed: jklpj.png\n",
      "jryep.png\n",
      "renamed: jryep.png\n",
      "kxbjy.png\n",
      "renamed: kxbjy.png\n",
      "kzkro.png\n",
      "renamed: kzkro.png\n",
      "lgjrq.png\n",
      "renamed: lgjrq.png\n",
      "lrccb.png\n",
      "renamed: lrccb.png\n",
      "mjubd.png\n",
      "renamed: mjubd.png\n",
      "mmoui.png\n",
      "renamed: mmoui.png\n",
      "mvwvn.png\n",
      "renamed: mvwvn.png\n",
      "mypah.png\n",
      "renamed: mypah.png\n",
      "nbuxs.png\n",
      "renamed: nbuxs.png\n",
      "nhzom.png\n",
      "renamed: nhzom.png\n",
      "nxkss.png\n",
      "renamed: nxkss.png\n",
      "nzivh.png\n",
      "renamed: nzivh.png\n",
      "ocrrh.png\n",
      "renamed: ocrrh.png\n",
      "osuyw.png\n",
      "renamed: osuyw.png\n",
      "oxmwl.png\n",
      "renamed: oxmwl.png\n",
      "psdah.png\n",
      "renamed: psdah.png\n",
      "pugsa.png\n",
      "renamed: pugsa.png\n",
      "qcvpl.png\n",
      "renamed: qcvpl.png\n",
      "qeqfq.png\n",
      "renamed: qeqfq.png\n",
      "trnrh.png\n",
      "renamed: trnrh.png\n",
      "ucoum.png\n",
      "renamed: ucoum.png\n",
      "uevcn.png\n",
      "renamed: uevcn.png\n",
      "ufdaj.png\n",
      "renamed: ufdaj.png\n",
      "ufvkv.png\n",
      "renamed: ufvkv.png\n",
      "ugifp.png\n",
      "renamed: ugifp.png\n",
      "unvbq.png\n",
      "renamed: unvbq.png\n",
      "vajeb.png\n",
      "renamed: vajeb.png\n",
      "vilki.png\n",
      "renamed: vilki.png\n",
      "yxuly.png\n",
      "renamed: yxuly.png\n"
     ]
    }
   ],
   "source": [
    "def rand_str(length):\n",
    "    letters=string.ascii_lowercase\n",
    "    result_string=\"\".join(random.choice(letters)for i in range(length))\n",
    "    return(result_string)\n",
    "def rename_files(folder):\n",
    "    files = os.listdir(folder)\n",
    "    for f in (files):\n",
    "        print(f)\n",
    "        os.rename('pics/'+str(f),'pics/'+str(rand_str(5))+'.png')\n",
    "        print(f\"renamed: {f}\")        \n",
    "rename_files(\"pics\")\n",
    "                          "
   ]
  },
  {
   "cell_type": "code",
   "execution_count": null,
   "metadata": {},
   "outputs": [],
   "source": []
  }
 ],
 "metadata": {
  "kernelspec": {
   "display_name": "Python 3",
   "language": "python",
   "name": "python3"
  },
  "language_info": {
   "codemirror_mode": {
    "name": "ipython",
    "version": 3
   },
   "file_extension": ".py",
   "mimetype": "text/x-python",
   "name": "python",
   "nbconvert_exporter": "python",
   "pygments_lexer": "ipython3",
   "version": "3.7.6"
  }
 },
 "nbformat": 4,
 "nbformat_minor": 4
}
